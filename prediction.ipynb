{
 "cells": [
  {
   "cell_type": "code",
   "execution_count": 12,
   "id": "df882532",
   "metadata": {},
   "outputs": [],
   "source": [
    "## imports  library\n",
    "import numpy as np\n",
    "import pandas as pd\n",
    "import tensorflow as tf\n",
    "from tensorflow.keras.datasets import imdb\n",
    "from tensorflow.keras.models import Sequential\n",
    "from tensorflow.keras.models import load_model\n",
    "from tensorflow.keras.preprocessing import sequence"
   ]
  },
  {
   "cell_type": "code",
   "execution_count": 13,
   "id": "ccf6df81",
   "metadata": {},
   "outputs": [],
   "source": [
    "## load the imdb dataset\n",
    "word_index = imdb.get_word_index()\n",
    "reverse_word_index = {value: key for (key, value) in word_index.items()}"
   ]
  },
  {
   "cell_type": "code",
   "execution_count": 14,
   "id": "689d3bca",
   "metadata": {},
   "outputs": [
    {
     "name": "stderr",
     "output_type": "stream",
     "text": [
      "WARNING:absl:Compiled the loaded model, but the compiled metrics have yet to be built. `model.compile_metrics` will be empty until you train or evaluate the model.\n"
     ]
    }
   ],
   "source": [
    "## load the model\n",
    "model = load_model('simple_rnn_imdb.h5')"
   ]
  },
  {
   "cell_type": "code",
   "execution_count": 15,
   "id": "0da3427a",
   "metadata": {},
   "outputs": [],
   "source": [
    "## function to decode reviews\n",
    "def decode_review(encoded_review):\n",
    "    return ' '.join([reverse_word_index.get(i - 3, '?') for i in encoded_review])\n",
    "\n",
    "## function to preprocess user input\n",
    "def preprocess_input(text):\n",
    "    words = text.lower().split()\n",
    "    encoded_review = [word_index.get(word, 2) + 3 for word in words]\n",
    "    padded_review = sequence.pad_sequences([encoded_review], maxlen=500)\n",
    "    return padded_review\n"
   ]
  },
  {
   "cell_type": "code",
   "execution_count": 16,
   "id": "75e1f6a7",
   "metadata": {},
   "outputs": [],
   "source": [
    "##predict function\n",
    "def predict_review(review):\n",
    "    ptrocessed_input = preprocess_input(review)\n",
    "    prediction = model.predict(ptrocessed_input)\n",
    "    sentiment = 'positive' if prediction[0][0] > 0.5 else 'negative'\n",
    "    return sentiment, prediction[0][0]"
   ]
  },
  {
   "cell_type": "code",
   "execution_count": 17,
   "id": "39033750",
   "metadata": {},
   "outputs": [
    {
     "name": "stdout",
     "output_type": "stream",
     "text": [
      "\u001b[1m1/1\u001b[0m \u001b[32m━━━━━━━━━━━━━━━━━━━━\u001b[0m\u001b[37m\u001b[0m \u001b[1m0s\u001b[0m 184ms/step\n",
      "Review: This movie was fantastic! I loved the plot and the acting was superb.\n",
      "Sentiment: positive, Score: 0.92\n"
     ]
    }
   ],
   "source": [
    "## Example review\n",
    "review = \"This movie was fantastic! I loved the plot and the acting was superb.\"\n",
    "sentiment, score = predict_review(review)\n",
    "print(f\"Review: {review}\\nSentiment: {sentiment}, Score: {score:.2f}\")\n"
   ]
  },
  {
   "cell_type": "code",
   "execution_count": null,
   "id": "6dccb6aa",
   "metadata": {},
   "outputs": [],
   "source": [
    "    "
   ]
  }
 ],
 "metadata": {
  "kernelspec": {
   "display_name": "RNN_IMDB (3.12.7)",
   "language": "python",
   "name": "python3"
  },
  "language_info": {
   "codemirror_mode": {
    "name": "ipython",
    "version": 3
   },
   "file_extension": ".py",
   "mimetype": "text/x-python",
   "name": "python",
   "nbconvert_exporter": "python",
   "pygments_lexer": "ipython3",
   "version": "3.12.7"
  }
 },
 "nbformat": 4,
 "nbformat_minor": 5
}
